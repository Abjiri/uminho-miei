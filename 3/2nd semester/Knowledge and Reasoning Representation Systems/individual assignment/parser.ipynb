{
 "cells": [
  {
   "cell_type": "code",
   "execution_count": 1,
   "metadata": {},
   "outputs": [],
   "source": [
    "def parser(paragens,listaAdjacencias,dicionarioCarreiras,carreira):\n",
    "    paragens.write(\"% Carreira \" + str(carreira['Carreira'][1]) + '\\n')\n",
    "    idCarreira = 1\n",
    "    \n",
    "    for paragem in carreira.iterrows():\n",
    "        if idCarreira > 1:\n",
    "            distancia = round(math.sqrt((anterior[1]-paragem[1]['latitude'])**2 + (anterior[2]-paragem[1]['longitude'])**2),3)\n",
    "            adj = (anterior[0],paragem[1]['gid'],distancia)\n",
    "            if adj not in listaAdjacencias:\n",
    "                listaAdjacencias.append(adj)\n",
    "                \n",
    "        paragens.write(\"paragem(\")\n",
    "        paragens.write(str(paragem[1]['Carreira']) + ', ')\n",
    "        paragens.write(str(idCarreira) + ', ')\n",
    "        paragens.write(str(paragem[1]['gid']) + ', ')\n",
    "        paragens.write(str(paragem[1]['latitude']) + ', ')\n",
    "        paragens.write(str(paragem[1]['longitude']) + ', ')\n",
    "        paragens.write('\\'' + paragem[1]['Estado de Conservacao'] + '\\', ')\n",
    "        paragens.write('\\'' + paragem[1]['Tipo de Abrigo'] + '\\', ')\n",
    "        paragens.write('\\'' + paragem[1]['Abrigo com Publicidade?'] + '\\', ')\n",
    "        paragens.write('\\'' + paragem[1]['Operadora'] + '\\', ')\n",
    "        paragens.write(str(dicionarioCarreiras[paragem[1]['gid']]) + ', ')\n",
    "        paragens.write(str(paragem[1]['Codigo de Rua']) + ', ')\n",
    "        paragens.write('\\'' + paragem[1]['Nome da Rua'] + '\\', ')\n",
    "        paragens.write('\\'' + paragem[1]['Freguesia'] + '\\').\\n')\n",
    "        \n",
    "        idCarreira+=1\n",
    "        anterior = [paragem[1]['gid'],paragem[1]['latitude'],paragem[1]['longitude']]\n",
    "    \n",
    "    paragens.write('\\n')\n",
    "    \n",
    "def atualizaDicionarioCarreiras(dicionarioCarreiras,carreira):\n",
    "    for paragem in carreira.iterrows():\n",
    "        if paragem[1]['gid'] in dicionarioCarreiras:\n",
    "            if paragem[1]['Carreira'] not in dicionarioCarreiras[paragem[1]['gid']]:\n",
    "                dicionarioCarreiras[paragem[1]['gid']].append(paragem[1]['Carreira'])\n",
    "        else:\n",
    "            dicionarioCarreiras[paragem[1]['gid']] = [paragem[1]['Carreira']]"
   ]
  },
  {
   "cell_type": "code",
   "execution_count": 2,
   "metadata": {},
   "outputs": [],
   "source": [
    "import os, glob\n",
    "import math\n",
    "import pandas as pd\n",
    "import numpy as np\n",
    "\n",
    "root = r\"C:\\Users\\Hugo\\Desktop\\Universidade\\SRCR\\Avaliacao-Individual\"\n",
    "csv_files = glob.glob(os.path.join(root + r\"\\Dados\\CSV\",\"*.csv\"))\n",
    "\n",
    "paragens = open(root + r\"\\Prolog\\paragens.pl\",\"w\",encoding=\"utf-8\")\n",
    "adjacencias = open(root + r\"\\Prolog\\adjacencias.pl\",\"w\")\n",
    "\n",
    "listaCSV = []\n",
    "listaAdjacencias = []\n",
    "dicionarioCarreiras = {}\n",
    "\n",
    "for file in csv_files:\n",
    "    carreira = pd.read_csv(file,encoding=\"utf-8\").dropna().drop_duplicates()\n",
    "    listaCSV.append(carreira)\n",
    "    atualizaDicionarioCarreiras(dicionarioCarreiras,carreira)\n",
    "\n",
    "for carreira in listaCSV:\n",
    "    parser(paragens,listaAdjacencias,dicionarioCarreiras,carreira)\n",
    "\n",
    "for adj in listaAdjacencias:\n",
    "    adjacencias.write(\"adjacencia\" + str(adj) +'.\\n')\n",
    "    \n",
    "paragens.close()\n",
    "adjacencias.close()"
   ]
  }
 ],
 "metadata": {
  "kernelspec": {
   "display_name": "Python 3",
   "language": "python",
   "name": "python3"
  },
  "language_info": {
   "codemirror_mode": {
    "name": "ipython",
    "version": 3
   },
   "file_extension": ".py",
   "mimetype": "text/x-python",
   "name": "python",
   "nbconvert_exporter": "python",
   "pygments_lexer": "ipython3",
   "version": "3.7.6"
  }
 },
 "nbformat": 4,
 "nbformat_minor": 4
}
